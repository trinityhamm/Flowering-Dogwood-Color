{
 "cells": [
  {
   "cell_type": "code",
   "execution_count": 1,
   "id": "b2ca251f",
   "metadata": {},
   "outputs": [],
   "source": [
    "import pandas as pd"
   ]
  },
  {
   "cell_type": "code",
   "execution_count": 6,
   "id": "3c287c42",
   "metadata": {},
   "outputs": [
    {
     "data": {
      "text/html": [
       "<div>\n",
       "<style scoped>\n",
       "    .dataframe tbody tr th:only-of-type {\n",
       "        vertical-align: middle;\n",
       "    }\n",
       "\n",
       "    .dataframe tbody tr th {\n",
       "        vertical-align: top;\n",
       "    }\n",
       "\n",
       "    .dataframe thead th {\n",
       "        text-align: right;\n",
       "    }\n",
       "</style>\n",
       "<table border=\"1\" class=\"dataframe\">\n",
       "  <thead>\n",
       "    <tr style=\"text-align: right;\">\n",
       "      <th></th>\n",
       "      <th>LG</th>\n",
       "      <th>Marker</th>\n",
       "      <th>Map_Position</th>\n",
       "    </tr>\n",
       "  </thead>\n",
       "  <tbody>\n",
       "    <tr>\n",
       "      <th>0</th>\n",
       "      <td>1</td>\n",
       "      <td>Chr01_1291158</td>\n",
       "      <td>0.000000</td>\n",
       "    </tr>\n",
       "    <tr>\n",
       "      <th>1</th>\n",
       "      <td>1</td>\n",
       "      <td>Chr01_1859164</td>\n",
       "      <td>0.845821</td>\n",
       "    </tr>\n",
       "    <tr>\n",
       "      <th>2</th>\n",
       "      <td>1</td>\n",
       "      <td>Chr01_3458306</td>\n",
       "      <td>2.111085</td>\n",
       "    </tr>\n",
       "    <tr>\n",
       "      <th>3</th>\n",
       "      <td>1</td>\n",
       "      <td>Chr01_4285885</td>\n",
       "      <td>2.514744</td>\n",
       "    </tr>\n",
       "    <tr>\n",
       "      <th>4</th>\n",
       "      <td>1</td>\n",
       "      <td>Chr01_4815845</td>\n",
       "      <td>4.224636</td>\n",
       "    </tr>\n",
       "    <tr>\n",
       "      <th>...</th>\n",
       "      <td>...</td>\n",
       "      <td>...</td>\n",
       "      <td>...</td>\n",
       "    </tr>\n",
       "    <tr>\n",
       "      <th>1143</th>\n",
       "      <td>11</td>\n",
       "      <td>Chr11_134368352</td>\n",
       "      <td>292.641298</td>\n",
       "    </tr>\n",
       "    <tr>\n",
       "      <th>1144</th>\n",
       "      <td>11</td>\n",
       "      <td>Chr11_134481938</td>\n",
       "      <td>293.506298</td>\n",
       "    </tr>\n",
       "    <tr>\n",
       "      <th>1145</th>\n",
       "      <td>11</td>\n",
       "      <td>Chr11_137055939</td>\n",
       "      <td>294.372470</td>\n",
       "    </tr>\n",
       "    <tr>\n",
       "      <th>1146</th>\n",
       "      <td>11</td>\n",
       "      <td>Chr11_137886278</td>\n",
       "      <td>295.238708</td>\n",
       "    </tr>\n",
       "    <tr>\n",
       "      <th>1147</th>\n",
       "      <td>11</td>\n",
       "      <td>Chr11_137984234</td>\n",
       "      <td>296.552122</td>\n",
       "    </tr>\n",
       "  </tbody>\n",
       "</table>\n",
       "<p>1148 rows × 3 columns</p>\n",
       "</div>"
      ],
      "text/plain": [
       "      LG           Marker  Map_Position\n",
       "0      1    Chr01_1291158      0.000000\n",
       "1      1    Chr01_1859164      0.845821\n",
       "2      1    Chr01_3458306      2.111085\n",
       "3      1    Chr01_4285885      2.514744\n",
       "4      1    Chr01_4815845      4.224636\n",
       "...   ..              ...           ...\n",
       "1143  11  Chr11_134368352    292.641298\n",
       "1144  11  Chr11_134481938    293.506298\n",
       "1145  11  Chr11_137055939    294.372470\n",
       "1146  11  Chr11_137886278    295.238708\n",
       "1147  11  Chr11_137984234    296.552122\n",
       "\n",
       "[1148 rows x 3 columns]"
      ]
     },
     "execution_count": 6,
     "metadata": {},
     "output_type": "execute_result"
    }
   ],
   "source": [
    "df = pd.read_csv(\"pseudo-f2_final.map\", sep=' ', header = None, names = [\"LG\", \"Marker\", \"Map_Position\"])\n",
    "df"
   ]
  },
  {
   "cell_type": "code",
   "execution_count": 16,
   "id": "a115a454",
   "metadata": {},
   "outputs": [
    {
     "data": {
      "text/plain": [
       "[100, 102, 97, 83, 118, 123, 86, 110, 84, 103, 142]"
      ]
     },
     "execution_count": 16,
     "metadata": {},
     "output_type": "execute_result"
    }
   ],
   "source": [
    "## first let's get the total number of markers for each LG\n",
    "Marker_Number = []\n",
    "\n",
    "for lg in range(1,12):\n",
    "    sub = df[df['LG'] == lg]\n",
    "    Marker_Number.append(len(sub))\n",
    "    \n",
    "Marker_Number"
   ]
  },
  {
   "cell_type": "code",
   "execution_count": 24,
   "id": "00109de6",
   "metadata": {},
   "outputs": [
    {
     "data": {
      "text/plain": [
       "[183.30651083804,\n",
       " 229.793880280927,\n",
       " 358.960753761999,\n",
       " 185.845308156627,\n",
       " 197.484661829885,\n",
       " 226.996830583856,\n",
       " 176.016322173679,\n",
       " 251.298617953276,\n",
       " 145.295125491273,\n",
       " 197.644572058557,\n",
       " 296.552122427241]"
      ]
     },
     "execution_count": 24,
     "metadata": {},
     "output_type": "execute_result"
    }
   ],
   "source": [
    "# now let's get the total distance of each LG\n",
    "Total_Distance = []\n",
    "\n",
    "for lg in range(1,12):\n",
    "    sub = df[df['LG'] == lg]\n",
    "    Total_Distance.append(sub['Map_Position'].iloc[-1])\n",
    "    \n",
    "Total_Distance"
   ]
  },
  {
   "cell_type": "code",
   "execution_count": 29,
   "id": "d174e023",
   "metadata": {},
   "outputs": [
    {
     "data": {
      "text/plain": [
       "[1.8515809175559597,\n",
       " 2.275186933474525,\n",
       " 3.7391745183541563,\n",
       " 2.2664061970320364,\n",
       " 1.6879030925631195,\n",
       " 1.8606297588840655,\n",
       " 2.0707802608668118,\n",
       " 2.30549190782822,\n",
       " 1.7505436806177472,\n",
       " 1.9376918829270295,\n",
       " 2.10320654203717]"
      ]
     },
     "execution_count": 29,
     "metadata": {},
     "output_type": "execute_result"
    }
   ],
   "source": [
    "# now let's get the average distance between markers for each LG\n",
    "Average_Distance = []\n",
    "\n",
    "for lg in range(1,12):\n",
    "    sub = df[df['LG'] == lg]\n",
    "    Average_Distance.append(sub['Map_Position'].diff().dropna().mean())\n",
    "\n",
    "Average_Distance"
   ]
  },
  {
   "cell_type": "code",
   "execution_count": 30,
   "id": "d5ea97e5",
   "metadata": {},
   "outputs": [
    {
     "data": {
      "text/plain": [
       "[9.162788385477995,\n",
       " 7.302157221822405,\n",
       " 54.81467133307899,\n",
       " 7.717822120248002,\n",
       " 7.2500813901285,\n",
       " 6.299046163742602,\n",
       " 9.4787935558298,\n",
       " 10.321722156957904,\n",
       " 9.58888999108003,\n",
       " 5.9483867915531,\n",
       " 9.190617712537005]"
      ]
     },
     "execution_count": 30,
     "metadata": {},
     "output_type": "execute_result"
    }
   ],
   "source": [
    "# now let's get the max distance between markers for each LG\n",
    "Maximum_Distance = []\n",
    "\n",
    "for lg in range(1,12):\n",
    "    sub = df[df['LG'] == lg]\n",
    "    Maximum_Distance.append(sub['Map_Position'].diff().dropna().max())\n",
    "\n",
    "Maximum_Distance"
   ]
  },
  {
   "cell_type": "code",
   "execution_count": 52,
   "id": "3c0065e5",
   "metadata": {},
   "outputs": [
    {
     "data": {
      "text/plain": [
       "2.1540850532588918"
      ]
     },
     "execution_count": 52,
     "metadata": {},
     "output_type": "execute_result"
    }
   ],
   "source": [
    "# get the average distance between every marker in the full map (instead of taking an average of averages)\n",
    "all_distances = []\n",
    "for lg in range(1, 12):\n",
    "    sub = df[df['LG'] == lg]\n",
    "    distances = sub['Map_Position'].diff().dropna()\n",
    "    all_distances.extend(distances.tolist())  # flatten into one list\n",
    "\n",
    "pd.Series(all_distances).mean()"
   ]
  },
  {
   "cell_type": "code",
   "execution_count": 54,
   "id": "92557026",
   "metadata": {},
   "outputs": [
    {
     "name": "stdout",
     "output_type": "stream",
     "text": [
      "       LG  Marker Number  Total Distance  Average Distance  Maximum Distance\n",
      "0       1            100           183.3               1.9               9.2\n",
      "1       2            102           229.8               2.3               7.3\n",
      "2       3             97           359.0               3.7              54.8\n",
      "3       4             83           185.8               2.3               7.7\n",
      "4       5            118           197.5               1.7               7.3\n",
      "5       6            123           227.0               1.9               6.3\n",
      "6       7             86           176.0               2.1               9.5\n",
      "7       8            110           251.3               2.3              10.3\n",
      "8       9             84           145.3               1.8               9.6\n",
      "9      10            103           197.6               1.9               5.9\n",
      "10     11            142           296.6               2.1               9.2\n",
      "11  Total           1148          2449.2               2.2              54.8\n"
     ]
    }
   ],
   "source": [
    "# make the final table\n",
    "final = pd.DataFrame({'LG': range(1,12),\n",
    "                      'Marker Number': Marker_Number,\n",
    "                      'Total Distance': Total_Distance,\n",
    "                      'Average Distance': Average_Distance,\n",
    "                      'Maximum Distance': Maximum_Distance})\n",
    "\n",
    "\n",
    "summary_row = {\n",
    "    'LG': 'Total',\n",
    "    'Marker Number': final['Marker Number'].sum(),\n",
    "    'Total Distance': final['Total Distance'].sum(),\n",
    "    'Average Distance': pd.Series(all_distances).mean(),\n",
    "    'Maximum Distance': final['Maximum Distance'].max()\n",
    "}\n",
    "\n",
    "# Append the row to the DataFrame\n",
    "final_df = pd.concat([final, pd.DataFrame([summary_row])], ignore_index=True)\n",
    "\n",
    "print(final_df.round(1))"
   ]
  },
  {
   "cell_type": "code",
   "execution_count": 41,
   "id": "3e0a3ab9",
   "metadata": {},
   "outputs": [],
   "source": [
    "final_df.round(1).to_excel('pseudo-f2_stats.xlsx', index=False)"
   ]
  },
  {
   "cell_type": "code",
   "execution_count": null,
   "id": "a8f63783",
   "metadata": {},
   "outputs": [],
   "source": []
  }
 ],
 "metadata": {
  "kernelspec": {
   "display_name": "Python 3 (ipykernel)",
   "language": "python",
   "name": "python3"
  },
  "language_info": {
   "codemirror_mode": {
    "name": "ipython",
    "version": 3
   },
   "file_extension": ".py",
   "mimetype": "text/x-python",
   "name": "python",
   "nbconvert_exporter": "python",
   "pygments_lexer": "ipython3",
   "version": "3.11.9"
  }
 },
 "nbformat": 4,
 "nbformat_minor": 5
}
