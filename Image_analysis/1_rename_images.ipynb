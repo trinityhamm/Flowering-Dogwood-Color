{
 "cells": [
  {
   "cell_type": "code",
   "execution_count": null,
   "id": "8cbcf461",
   "metadata": {},
   "outputs": [],
   "source": [
    "## Script to rename images based on the labels within them\n",
    "# uses tesseract to read the images"
   ]
  },
  {
   "cell_type": "code",
   "execution_count": 131,
   "id": "88b8617b",
   "metadata": {},
   "outputs": [],
   "source": [
    "import os\n",
    "from PIL import Image\n",
    "import pytesseract\n",
    "import pandas as pd\n",
    "import re"
   ]
  },
  {
   "cell_type": "code",
   "execution_count": 27,
   "id": "df54548a",
   "metadata": {},
   "outputs": [],
   "source": [
    "## Before we can get this to work, we have to install tesseract because pytesseract is just a wrapper script. I installed it with homebrew\n",
    "#brew install tesseract\n",
    "\n",
    "# if calling tesseract in your terminal doesn't work, you can set the directory of tesseract with this:\n",
    "\n",
    "#get the full path of tesseract\n",
    "#brew info tesseract\n",
    "#pytesseract.pytesseract.tesseract_cmd = r'/usr/local/Cellar/tesseract/5.3.4_1/bin'"
   ]
  },
  {
   "cell_type": "code",
   "execution_count": null,
   "id": "75823d00",
   "metadata": {},
   "outputs": [],
   "source": [
    "#### DO NOT RUN IN JUPYTER NOTEBOOK ###########\n",
    "\n",
    "# I want to convert the images to tiff because I don't think tesseract with read the raw images.\n",
    "# Update: it can read .CR2 files, but it takes longer\n",
    "\n",
    "#This can be accomplished with this for loop, but I also want to correct for white balance, which you can do pretty easily in RawTherepee\n",
    "for i in ../all_raw/*.CR2\n",
    "do\n",
    "    BASE=$( basename $i | sed 's/.CR2//g')\n",
    "    echo $BASE\n",
    "    \n",
    "    sips -s format tiff $i --out ./${BASE}.tiff\n",
    "done"
   ]
  },
  {
   "cell_type": "markdown",
   "id": "253e8720",
   "metadata": {},
   "source": [
    "## Pre-processing the images before I rename them\n",
    "\n",
    "I wanted to preprocess them into .tif images before I rename them, so that it doesn't take tesseract as much time to go through them. I shot the images in raw (.CR2 for canon), so we can easily correct white balance after the fact. If anyone is doing this again, I would try turn the auto white balance off on the camera, so you hopefully don't have to correct for white balance. In the grape image processing guide here: https://github.com/underhillanna/GrapeImageAnalysis, they also corrected for white balance. I tested it out to make sure that correcting the white balance actually makes a difference and the black background looks a lot more consistent in the white-balanced photos, so I am going to do it with all the images.\n",
    "\n",
    "I'm going to use RawTherapee (https://rawtherapee.com/) to run through this and export as a 8 bit tif file quickly.\n",
    "\n",
    "\n",
    "1. In the \"File Browser\" tab of RawTherapee, open up the folder with all the .CR2 files.\n",
    "2. Go to the Editor tab. Double click on the first image (make sure the check mark in the left hand corner shows up) Click on the white balance tab (on the right side, the thrid option). \n",
    "3. Click White Balance to expand the menu. Select \"Method:Custom\".\n",
    "4. Select \"Pick\"\n",
    "5. Once the dropper comes up, click on the white label. This will automatically correct the white balance. This will save a .pp3 file to where that image is saved. Now we can use this to correct the white balance for all the images.\n",
    "6. Double click on the next image (again make sure that the check mark shows up)\n",
    "7. Under \"Processing Profiles\" select the folder. Select the .pp3 from the first image that you fixed.\n",
    "8. Right click on the image that you just edited. Go to \"Processing profile operations\" and select \"Copy\".\n",
    "9. Right click on the image again and click \"Select all\" (make sure all the squares are now highlighted.\n",
    "10. Right click again. Go to \"Processing profile operations\" and select \"paste\". It'll take a little bit to process if you have a lot of images. Mine froze and got the spinning ball of death for ~3 min and then was able to process everything. All together it took no more than 5 min. At this point I would go through and make sure all the images are the right direction and make sure the white balance didn't get weird on anything. If something is wrong, double click the image and fix whatever you want. It won't have any impact on the other images.\n",
    "11. Make sure you have all images selected. Right click again and use the \"Put to queue\" with the gears next to it. This will put the images in the processing queue. From there you can export as a 8 bit tif file to where ever you want. 16 bit tif files would need to be converted to 8 bit if you are going to use them in the other downstream processing I at least have planned.\n",
    "12. Once you have where you want to save all the images and the file format set up, toggle the on/off switch for the \"Queue\".\n",
    "\n",
    "At this point, I separated the images into folders for the the ones that have full inflorescences, four bracts, and only 1 bract. This will make it easier for renaming.\n",
    "\n",
    "\n",
    "Notes: \n",
    "* F2-06-113 doesn't have 3 full inflorescence pictures (find IMG_2637.CR2 is a double)\n",
    "* F2-06-225 doesn't have 3 full inflorescence pictures (noted in sheet)\n",
    "* F2-06-104 doesn't have 3 full inflorescence pictures ( no idea why)\n",
    "* F2-06-248 has the 262 label in it\n",
    "* f2-06-235 only has one full inflorescence and one four-bract and one bract\n",
    "\n",
    "Full inflorescence pictures: 346\n",
    "Four bract pictures: 349\n",
    "One bract pictures: 349"
   ]
  },
  {
   "cell_type": "code",
   "execution_count": 121,
   "id": "e490758f",
   "metadata": {},
   "outputs": [],
   "source": [
    "# Function to extract text from an image using Tesseract OCR --psm 1 or 12 works pretty well 12 results in some weird things though\n",
    "# image_path = path to image\n",
    "# psm = which page segmentation option to use\n",
    "    # options:\n",
    "        #   0    Orientation and script detection (OSD) only.\n",
    "        #   1    Automatic page segmentation with OSD.\n",
    "        #   2    Automatic page segmentation, but no OSD, or OCR.\n",
    "        #   3    Fully automatic page segmentation, but no OSD. (Default)\n",
    "        #   4    Assume a single column of text of variable sizes.\n",
    "        #   5    Assume a single uniform block of vertically aligned text.\n",
    "        #   6    Assume a single uniform block of text.\n",
    "        #   7    Treat the image as a single text line.\n",
    "        #   8    Treat the image as a single word.\n",
    "        #   9    Treat the image as a single word in a circle.\n",
    "        #  10    Treat the image as a single character.\n",
    "        #  11    Sparse text. Find as much text as possible in no particular order.\n",
    "        #  12    Sparse text with OSD.\n",
    "        #  13    Raw line. Treat the image as a single text line,\n",
    "        #                         bypassing hacks that are Tesseract-specific.\n",
    "        \n",
    "# greyscale = which pillow greyscale method to use\n",
    "    # options:\n",
    "        # none\n",
    "        # LA\n",
    "        # L\n",
    "\n",
    "def extract_text_from_image(image_path, seg, greyscale):\n",
    "    \n",
    "    psm_config = f\"--psm {seg} -c tessedit_char_whitelist=0123456789F-\"\n",
    "    \n",
    "    if greyscale == \"none\":\n",
    "        image = Image.open(image_path)\n",
    "        text = pytesseract.image_to_string(image, config=psm_config)\n",
    "        \n",
    "    if greyscale == \"LA\":\n",
    "        image = Image.open(image_path).convert('LA')\n",
    "        text = pytesseract.image_to_string(image, config=psm_config)\n",
    "        \n",
    "    if greyscale == \"L\":\n",
    "        image = Image.open(image_path).convert('L')\n",
    "        text = pytesseract.image_to_string(image, config=psm_config)\n",
    "    \n",
    "    return text.strip()"
   ]
  },
  {
   "cell_type": "code",
   "execution_count": 122,
   "id": "d778be24",
   "metadata": {},
   "outputs": [],
   "source": [
    "# Function to call the extract text from image function and then actually change the name of the files\n",
    "# options:\n",
    "    # image_dir = directory where all the files are that you want to iterate through\n",
    "    # file_end = what to end the file name with\n",
    "    # seg1 = first segmentation to try\n",
    "    # d = dataframe to output name conversions to\n",
    "    # seg2 = second segmentation option to try\n",
    "\n",
    "def rename_image(image_dir, file_end, seg1, d, seg2):\n",
    "    # clear the label list to ensure the correct numbering happens\n",
    "    label_list = []\n",
    "\n",
    "    for filename in sorted(os.listdir(image_dir)):\n",
    "        if filename.endswith(\".tif\"):\n",
    "            image_path = os.path.join(image_dir, filename)\n",
    "            # Extract text from the image\n",
    "            label = extract_text_from_image(image_path, seg1, \"none\")\n",
    "\n",
    "            # if it was able to read the ID, finish it\n",
    "            if label.startswith(\"F2\"):\n",
    "                label_list.append(label)\n",
    "                # Define your renaming logic here\n",
    "                new_filename = f\"{label}_{label_list.count(label)}_{file_end}.tif\"\n",
    "                #output conversion to a dataframe\n",
    "                d.append((new_filename, filename, 'No_greyscale', seg1))\n",
    "                # Rename the file\n",
    "                os.rename(image_path, os.path.join(image_dir, new_filename))\n",
    "\n",
    "                #print(label + str(label_list.count(label)) + \"\\t\" + filename)\n",
    "\n",
    "\n",
    "            # if it was not able to read the ID, move on to trying to convert the image to greyscale\n",
    "            else: \n",
    "                label_LA = extract_text_from_image(image_path, seg1, \"LA\")\n",
    "                if label_LA.startswith(\"F2\"):\n",
    "                    label_list.append(label_LA)\n",
    "                    # Define your renaming logic here\n",
    "                    new_filename = f\"{label_LA}_{label_list.count(label_LA)}_{file_end}.tif\"\n",
    "                    #output conversion to a dataframe\n",
    "                    d.append((new_filename, filename, 'LA', seg1))\n",
    "                    # Rename the file\n",
    "                    os.rename(image_path, os.path.join(image_dir, new_filename))\n",
    "\n",
    "                    #print(\"LA\" + label_LA + str(label_list.count(label_LA)) + \"\\t\" + filename)\n",
    "\n",
    "                # If the LA greyscale convert didn't work, try the other one\n",
    "                else:\n",
    "                    label_L = extract_text_from_image(image_path, seg1, \"L\")\n",
    "                    if label_L.startswith(\"F2\"):\n",
    "                        label_list.append(label_L)\n",
    "                        # Define your renaming logic here\n",
    "                        new_filename = f\"{label_L}_{label_list.count(label_L)}_{file_end}.tif\"\n",
    "                        #output conversion to a dataframe\n",
    "                        d.append((new_filename, filename, 'L', seg1))\n",
    "                        # Rename the file\n",
    "                        os.rename(image_path, os.path.join(image_dir, new_filename))\n",
    "\n",
    "                        #print(\"L\" + label_L + str(label_list.count(label_L)) + \"\\t\" + filename)\n",
    "\n",
    "                    else:\n",
    "                        # Extract text from the image\n",
    "                        label = extract_text_from_image(image_path, seg2, \"none\")\n",
    "\n",
    "                        # if it was able to read the ID, finish it\n",
    "                        if label.startswith(\"F2\"):\n",
    "                            label_list.append(label)\n",
    "                            # Define your renaming logic here\n",
    "                            new_filename = f\"{label}_{label_list.count(label)}_{file_end}.tif\"\n",
    "                            #output conversion to a dataframe\n",
    "                            d.append((new_filename, filename, 'No_greyscale', seg2))\n",
    "                            # Rename the file\n",
    "                            os.rename(image_path, os.path.join(image_dir, new_filename))\n",
    "\n",
    "                            #print(label + str(label_list.count(label)) + \"\\t\" + filename)\n",
    "\n",
    "\n",
    "                        # if it was not able to read the ID, move on to trying to convert the image to greyscale\n",
    "                        else: \n",
    "                            label_LA = extract_text_from_image(image_path, seg2, \"LA\")\n",
    "                            if label_LA.startswith(\"F2\"):\n",
    "                                label_list.append(label_LA)\n",
    "                                # Define your renaming logic here\n",
    "                                new_filename = f\"{label_LA}_{label_list.count(label_LA)}_{file_end}.tif\"\n",
    "                                #output conversion to a dataframe\n",
    "                                d.append((new_filename, filename, 'LA', seg2))\n",
    "                                # Rename the file\n",
    "                                os.rename(image_path, os.path.join(image_dir, new_filename))\n",
    "\n",
    "                                #print(\"LA\" + label_LA + str(label_list.count(label_LA)) + \"\\t\" + filename)\n",
    "\n",
    "\n",
    "                            # If the LA greyscale convert didn't work, try the other one\n",
    "                            else:\n",
    "                                label_L = extract_text_from_image(image_path, seg2, \"L\")\n",
    "                                if label_L.startswith(\"F2\"):\n",
    "                                    label_list.append(label_L)\n",
    "                                    # Define your renaming logic here\n",
    "                                    new_filename = f\"{label_L}_{label_list.count(label_L)}_{file_end}.tif\"\n",
    "                                    #output conversion to a dataframe\n",
    "                                    d.append((new_filename, filename, 'L', seg2))\n",
    "                                    # Rename the file\n",
    "                                    os.rename(image_path, os.path.join(image_dir, new_filename))\n",
    "\n",
    "                                    #print(\"L\" + label_L + str(label_list.count(label_L)) + \"\\t\" + filename)\n",
    "\n",
    "\n",
    "                            # if none of that worked, name the file unknown.\n",
    "                                else:\n",
    "                                    label_list.append(\"unknown\")\n",
    "                                    # Define your renaming logic here\n",
    "                                    new_filename = f\"unknown_{label_list.count(label_L)}_{file_end}.tif\"\n",
    "                                    #output conversion to a dataframe\n",
    "                                    d.append((new_filename, filename, 'L', seg2))\n",
    "                                    # Rename the file\n",
    "                                    os.rename(image_path, os.path.join(image_dir, new_filename))\n",
    "\n",
    "                                    #print(\"unknown\" + \"\\t\" + filename)"
   ]
  },
  {
   "cell_type": "code",
   "execution_count": 123,
   "id": "e517d6e5",
   "metadata": {},
   "outputs": [],
   "source": [
    "d = []\n",
    "\n",
    "rename_image(image_dir = \"pictures/all_tif/1.full_inflorescence/\", \n",
    "             file_end = \"full\",\n",
    "             seg1 = 1,\n",
    "             d = d,\n",
    "             seg2 = 12)\n",
    "\n",
    "rename_image(image_dir = \"pictures/all_tif/2.four_bracts/\", \n",
    "             file_end = \"four\",\n",
    "             seg1 = 1,\n",
    "             d = d,\n",
    "             seg2 = 12)\n",
    "\n",
    "rename_image(image_dir = \"pictures/all_tif/3.one_bract/\", \n",
    "             file_end = \"one\",\n",
    "             seg1 = 1,\n",
    "             d = d,\n",
    "             seg2 = 12)"
   ]
  },
  {
   "cell_type": "code",
   "execution_count": 126,
   "id": "7d5f4683",
   "metadata": {},
   "outputs": [],
   "source": [
    "conversion = pd.DataFrame(d, columns=('New_Name', 'Old_Name', 'Grey_scale', 'segmentation'))"
   ]
  },
  {
   "cell_type": "code",
   "execution_count": null,
   "id": "8fd8356c",
   "metadata": {},
   "outputs": [],
   "source": [
    "# keep a record of original names and what it was converted to\n",
    "conversion.to_excel(\"pictures/all_tif/rename_conversions.xlsx\")"
   ]
  },
  {
   "cell_type": "code",
   "execution_count": 157,
   "id": "4828b7d4",
   "metadata": {},
   "outputs": [],
   "source": [
    "#Now that the pictures are renamed, I want to make sure that we have all the same names for each group of pictures\n",
    "\n",
    "full_names = os.listdir(\"pictures/all_tif/1.full_inflorescence/\")\n",
    "\n",
    "full_names_short = []\n",
    "\n",
    "for i in full_names:\n",
    "    new_name = re.sub('_full.tiff', '', i)\n",
    "    full_names_short.append(new_name)\n",
    "    \n",
    "    \n",
    "#full_names_short"
   ]
  },
  {
   "cell_type": "code",
   "execution_count": 143,
   "id": "b0a0aa18",
   "metadata": {},
   "outputs": [],
   "source": [
    "four_names = os.listdir(\"pictures/all_tif/2.four_bracts/\")\n",
    "\n",
    "four_names_short = []\n",
    "\n",
    "for i in four_names:\n",
    "    new_name = re.sub('_four.tiff', '', i)\n",
    "    four_names_short.append(new_name)\n",
    "    \n",
    "#four_names_short"
   ]
  },
  {
   "cell_type": "code",
   "execution_count": 145,
   "id": "016b1850",
   "metadata": {},
   "outputs": [],
   "source": [
    "one_names = os.listdir(\"pictures/all_tif/3.one_bract/\")\n",
    "\n",
    "one_names_short = []\n",
    "\n",
    "for i in one_names:\n",
    "    new_name = re.sub('_one.tiff', '', i)\n",
    "    one_names_short.append(new_name)\n",
    "    \n",
    "#one_names_short"
   ]
  },
  {
   "cell_type": "code",
   "execution_count": 158,
   "id": "94170b42",
   "metadata": {},
   "outputs": [],
   "source": [
    "# convert to tuple and see what's different about them\n",
    "\n",
    "full_names_set = set(full_names_short)\n",
    "four_names_set = set(four_names_short)\n",
    "one_names_set = set(one_names_short)"
   ]
  },
  {
   "cell_type": "code",
   "execution_count": 147,
   "id": "153c3d41",
   "metadata": {},
   "outputs": [
    {
     "data": {
      "text/plain": [
       "['F2-06-248_1_four.tif']"
      ]
     },
     "execution_count": 147,
     "metadata": {},
     "output_type": "execute_result"
    }
   ],
   "source": [
    "list(four_names_set - one_names_set)"
   ]
  },
  {
   "cell_type": "code",
   "execution_count": 149,
   "id": "84a6af3a",
   "metadata": {},
   "outputs": [
    {
     "data": {
      "text/plain": [
       "['F2-06-248_1_one.tif']"
      ]
     },
     "execution_count": 149,
     "metadata": {},
     "output_type": "execute_result"
    }
   ],
   "source": [
    "list(one_names_set - four_names_set)"
   ]
  },
  {
   "cell_type": "code",
   "execution_count": 153,
   "id": "0d26a16e",
   "metadata": {},
   "outputs": [
    {
     "data": {
      "text/plain": [
       "['F2-06-248_1_full.tif']"
      ]
     },
     "execution_count": 153,
     "metadata": {},
     "output_type": "execute_result"
    }
   ],
   "source": [
    "list(full_names_set - four_names_set)"
   ]
  },
  {
   "cell_type": "code",
   "execution_count": 154,
   "id": "e54d49d8",
   "metadata": {},
   "outputs": [
    {
     "data": {
      "text/plain": [
       "['F2-06-248_1_full.tif']"
      ]
     },
     "execution_count": 154,
     "metadata": {},
     "output_type": "execute_result"
    }
   ],
   "source": [
    "list(full_names_set - one_names_set)"
   ]
  },
  {
   "cell_type": "code",
   "execution_count": 159,
   "id": "261a007e",
   "metadata": {},
   "outputs": [
    {
     "data": {
      "text/plain": [
       "['F2-06-225_3', 'F2-06-113_3', 'F2-06-248_1_four.tif', 'F2-06-104_3']"
      ]
     },
     "execution_count": 159,
     "metadata": {},
     "output_type": "execute_result"
    }
   ],
   "source": [
    "list(four_names_set - full_names_set)"
   ]
  },
  {
   "cell_type": "code",
   "execution_count": 160,
   "id": "df27ad03",
   "metadata": {},
   "outputs": [
    {
     "data": {
      "text/plain": [
       "['F2-06-225_3', 'F2-06-104_3', 'F2-06-113_3', 'F2-06-248_1_one.tif']"
      ]
     },
     "execution_count": 160,
     "metadata": {},
     "output_type": "execute_result"
    }
   ],
   "source": [
    "list(one_names_set - full_names_set)"
   ]
  },
  {
   "cell_type": "code",
   "execution_count": null,
   "id": "54f4f15f",
   "metadata": {},
   "outputs": [],
   "source": [
    "## 248 is just the the difference between .tiff and .tif, so that's not a big desl. 225, 113, and 104 all had one\n",
    "# full inflorescence missing, so that's okay too. We're good to move on to image analysis now!!!\n",
    "# first I'm going to replace .tiff with .tif though"
   ]
  }
 ],
 "metadata": {
  "kernelspec": {
   "display_name": "Python 3 (ipykernel)",
   "language": "python",
   "name": "python3"
  },
  "language_info": {
   "codemirror_mode": {
    "name": "ipython",
    "version": 3
   },
   "file_extension": ".py",
   "mimetype": "text/x-python",
   "name": "python",
   "nbconvert_exporter": "python",
   "pygments_lexer": "ipython3",
   "version": "3.11.9"
  }
 },
 "nbformat": 4,
 "nbformat_minor": 5
}
